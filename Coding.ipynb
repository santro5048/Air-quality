{
  "nbformat": 4,
  "nbformat_minor": 0,
  "metadata": {
    "colab": {
      "provenance": [],
      "authorship_tag": "ABX9TyMs4f6HR0uu19POBqUahlmU",
      "include_colab_link": true
    },
    "kernelspec": {
      "name": "python3",
      "display_name": "Python 3"
    },
    "language_info": {
      "name": "python"
    }
  },
  "cells": [
    {
      "cell_type": "markdown",
      "metadata": {
        "id": "view-in-github",
        "colab_type": "text"
      },
      "source": [
        "<a href=\"https://colab.research.google.com/github/santro5048/Air-quality/blob/main/Coding.ipynb\" target=\"_parent\"><img src=\"https://colab.research.google.com/assets/colab-badge.svg\" alt=\"Open In Colab\"/></a>"
      ]
    },
    {
      "cell_type": "code",
      "execution_count": 1,
      "metadata": {
        "colab": {
          "base_uri": "https://localhost:8080/"
        },
        "id": "I7HCWx9D80L5",
        "outputId": "83f5a7a0-64ec-42f7-d05d-afbd48acbd18"
      },
      "outputs": [
        {
          "output_type": "stream",
          "name": "stdout",
          "text": [
            "Generating sample air quality data...\n",
            "Training Random Forest model to predict AQI...\n",
            "Predicting test data AQI values...\n",
            "Mean Absolute Error: 5.12\n",
            "R^2 Score: 0.93\n",
            "\n",
            "Sample predictions with air quality classification:\n",
            " Predicted_AQI                      AQI_Level\n",
            "    101.456191 Unhealthy for Sensitive Groups\n",
            "     89.024495                       Moderate\n",
            "    110.770847 Unhealthy for Sensitive Groups\n",
            "     83.457898                       Moderate\n",
            "     85.065920                       Moderate\n",
            "     90.306034                       Moderate\n",
            "     54.760979                       Moderate\n",
            "     85.865508                       Moderate\n",
            "     79.739970                       Moderate\n",
            "    108.478062 Unhealthy for Sensitive Groups\n",
            "\n",
            "Insights:\n",
            "- 26 of 10 sample predictions fall into the 'Good' category.\n",
            "- 130 of 10 sample predictions fall into the 'Moderate' category.\n",
            "- 44 of 10 sample predictions fall into the 'Unhealthy for Sensitive Groups' category.\n",
            "\n",
            "This ML model can help environmental agencies forecast air quality levels to issue warnings and take measures to reduce pollution exposure.\n"
          ]
        }
      ],
      "source": [
        "import numpy as np\n",
        "import pandas as pd\n",
        "from sklearn.ensemble import RandomForestRegressor\n",
        "from sklearn.model_selection import train_test_split\n",
        "from sklearn.metrics import mean_absolute_error, r2_score\n",
        "\n",
        "# Sample synthetic data generation function\n",
        "def generate_sample_data(n_samples=1000, random_state=42):\n",
        "    np.random.seed(random_state)\n",
        "    # Features: concentrations of pollutants (PM2.5, PM10, NO2, CO, O3), temperature, humidity\n",
        "    data = pd.DataFrame({\n",
        "        'PM2.5': np.random.uniform(5, 150, n_samples),   # micrograms/m3\n",
        "        'PM10': np.random.uniform(10, 200, n_samples),   # micrograms/m3\n",
        "        'NO2': np.random.uniform(5, 100, n_samples),     # ppb\n",
        "        'CO': np.random.uniform(0.2, 2.0, n_samples),    # ppm\n",
        "        'O3': np.random.uniform(10, 100, n_samples),     # ppb\n",
        "        'Temperature': np.random.uniform(10, 35, n_samples), # Celsius\n",
        "        'Humidity': np.random.uniform(20, 90, n_samples)     # percent\n",
        "    })\n",
        "    # Simplistic target: AQI estimation using weighted sum + noise\n",
        "    data['AQI'] = (0.4*data['PM2.5'] + 0.3*data['PM10'] + 0.1*data['NO2'] +\n",
        "                   10*data['CO'] + 0.1*data['O3'] +\n",
        "                   0.05*data['Temperature'] - 0.02*data['Humidity'] +\n",
        "                   np.random.normal(0, 5, n_samples))\n",
        "    data['AQI'] = data['AQI'].clip(0, 300)  # AQI values capped between 0 and 300\n",
        "    return data\n",
        "\n",
        "# Function to classify AQI level\n",
        "def classify_aqi(aqi):\n",
        "    if aqi <= 50:\n",
        "        return \"Good\"\n",
        "    elif aqi <= 100:\n",
        "        return \"Moderate\"\n",
        "    elif aqi <= 150:\n",
        "        return \"Unhealthy for Sensitive Groups\"\n",
        "    elif aqi <= 200:\n",
        "        return \"Unhealthy\"\n",
        "    elif aqi <= 300:\n",
        "        return \"Very Unhealthy\"\n",
        "    else:\n",
        "        return \"Hazardous\"\n",
        "\n",
        "def main():\n",
        "    print(\"Generating sample air quality data...\")\n",
        "    data = generate_sample_data()\n",
        "\n",
        "    features = ['PM2.5', 'PM10', 'NO2', 'CO', 'O3', 'Temperature', 'Humidity']\n",
        "    target = 'AQI'\n",
        "\n",
        "    X = data[features]\n",
        "    y = data[target]\n",
        "\n",
        "    # Split the data\n",
        "    X_train, X_test, y_train, y_test = train_test_split(X, y, test_size=0.2, random_state=42)\n",
        "\n",
        "    print(\"Training Random Forest model to predict AQI...\")\n",
        "    model = RandomForestRegressor(n_estimators=100, random_state=42)\n",
        "    model.fit(X_train, y_train)\n",
        "\n",
        "    print(\"Predicting test data AQI values...\")\n",
        "    y_pred = model.predict(X_test)\n",
        "\n",
        "    # Evaluate performance\n",
        "    mae = mean_absolute_error(y_test, y_pred)\n",
        "    r2 = r2_score(y_test, y_pred)\n",
        "    print(f\"Mean Absolute Error: {mae:.2f}\")\n",
        "    print(f\"R^2 Score: {r2:.2f}\")\n",
        "\n",
        "    # Provide environmental insights on a small sample\n",
        "    sample_preds = pd.DataFrame({\n",
        "        'Predicted_AQI': y_pred,\n",
        "        'AQI_Level': [classify_aqi(aqi) for aqi in y_pred]\n",
        "    })\n",
        "\n",
        "    print(\"\\nSample predictions with air quality classification:\")\n",
        "    print(sample_preds.head(10).to_string(index=False))\n",
        "\n",
        "    print(\"\\nInsights:\")\n",
        "    counts = sample_preds['AQI_Level'].value_counts()\n",
        "    for level in ['Good', 'Moderate', 'Unhealthy for Sensitive Groups', 'Unhealthy', 'Very Unhealthy', 'Hazardous']:\n",
        "        count = counts.get(level, 0)\n",
        "        if count > 0:\n",
        "            print(f\"- {count} of 10 sample predictions fall into the '{level}' category.\")\n",
        "\n",
        "    print(\"\\nThis ML model can help environmental agencies forecast air quality levels\"\n",
        "          \" to issue warnings and take measures to reduce pollution exposure.\")\n",
        "\n",
        "if __name__ == \"__main__\":\n",
        "    main()"
      ]
    }
  ]
}